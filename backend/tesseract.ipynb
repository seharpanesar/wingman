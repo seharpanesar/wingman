{
 "cells": [
  {
   "cell_type": "code",
   "execution_count": 2,
   "metadata": {},
   "outputs": [
    {
     "name": "stdout",
     "output_type": "stream",
     "text": [
      "6:47 al) LTE)\n",
      "\n",
      "< ~\n",
      "\n",
      "Rob >\n",
      "\n",
      "Hey what's up!\n",
      "\n",
      "Hey rob did you catch the game last\n",
      "night?\n",
      "\n",
      "Nah | was at the bar. Who won?\n",
      "\n",
      "Lakers 10-6\n",
      "\n",
      "They were getting crushed out there\n",
      "but turned it around in the last\n",
      "\n",
      "quarter\n",
      "\n",
      "| can't believe you missed it!\n",
      "\n",
      "Read 6:45 PM\n",
      "\n",
      "Ugh | know\n",
      "a ® ©\n",
      "*@OO@2z060 .\n",
      "\n",
      "QW ER TY Ut O P\n",
      "\n",
      "AJS|PDEPFIGTHIIJFKEL\n",
      "\n",
      "@ ZX C V BN M\n",
      "\n",
      "ce “pace tun\n",
      "\n",
      "\n"
     ]
    }
   ],
   "source": [
    "from PIL import Image\n",
    "import pytesseract\n",
    "\n",
    "# If you don't have tesseract executable in your PATH, include the following:\n",
    "# pytesseract.pytesseract.tesseract_cmd = r'<full_path_to_your_tesseract_executable>'\n",
    "# Example tesseract_cmd = r'C:\\Program Files (x86)\\Tesseract-OCR\\tesseract'\n",
    "pytesseract.pytesseract.tesseract_cmd = r'/opt/homebrew/Cellar/tesseract/5.3.2_1/bin/tesseract'\n",
    "\n",
    "# Simple image to string\n",
    "print(pytesseract.image_to_string(Image.open('./screenshot1.webp')))"
   ]
  }
 ],
 "metadata": {
  "kernelspec": {
   "display_name": "Python 3",
   "language": "python",
   "name": "python3"
  },
  "language_info": {
   "codemirror_mode": {
    "name": "ipython",
    "version": 3
   },
   "file_extension": ".py",
   "mimetype": "text/x-python",
   "name": "python",
   "nbconvert_exporter": "python",
   "pygments_lexer": "ipython3",
   "version": "3.9.6"
  },
  "orig_nbformat": 4
 },
 "nbformat": 4,
 "nbformat_minor": 2
}
