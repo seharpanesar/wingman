{
 "cells": [
  {
   "cell_type": "code",
   "execution_count": 7,
   "metadata": {},
   "outputs": [
    {
     "name": "stdout",
     "output_type": "stream",
     "text": [
      "Sun 10:33 PM\n",
      "\n",
      "You really have a bionic leg?\n",
      "\n",
      "Are you handicap ?\n",
      "12:13AM\n",
      "12:26AM\n",
      "You had cancer in your 20s?\n",
      "6:03AM\n",
      "8:34 AM\n",
      "\n",
      "Can | see photos of your bionic\n",
      "leg >?\n",
      "| think that's kinky\n",
      "\n"
     ]
    }
   ],
   "source": [
    "import pytesseract\n",
    "# If you don't have tesseract executable in your PATH, include the following:\n",
    "pytesseract.pytesseract.tesseract_cmd = r'/opt/homebrew/Cellar/tesseract/5.3.2_1/bin/tesseract'\n",
    "# Importing Image and ImageOps module from PIL package\n",
    "from PIL import Image, ImageOps\n",
    "     \n",
    "# creating a image1 object\n",
    "im1 = Image.open(r\"./sc.webp\")\n",
    " \n",
    "# applying grayscale method\n",
    "im2 = ImageOps.grayscale(im1)\n",
    "\n",
    "# Simple image to string\n",
    "print(pytesseract.image_to_string(im2))"
   ]
  }
 ],
 "metadata": {
  "kernelspec": {
   "display_name": "Python 3",
   "language": "python",
   "name": "python3"
  },
  "language_info": {
   "codemirror_mode": {
    "name": "ipython",
    "version": 3
   },
   "file_extension": ".py",
   "mimetype": "text/x-python",
   "name": "python",
   "nbconvert_exporter": "python",
   "pygments_lexer": "ipython3",
   "version": "3.9.6"
  },
  "orig_nbformat": 4
 },
 "nbformat": 4,
 "nbformat_minor": 2
}
