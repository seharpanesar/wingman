{
 "cells": [
  {
   "cell_type": "code",
   "execution_count": 8,
   "metadata": {},
   "outputs": [],
   "source": [
    "from google.cloud import vision\n",
    "import os\n",
    "os.environ[\"GOOGLE_APPLICATION_CREDENTIALS\"] = \"wingman-400716-85ed9558cabb.json\""
   ]
  },
  {
   "cell_type": "code",
   "execution_count": 36,
   "metadata": {},
   "outputs": [
    {
     "name": "stdout",
     "output_type": "stream",
     "text": [
      "6:47 .LTE R < Rob > Hey what's up ! Hey rob did you catch the game last night ? Nah I was at the bar . Who won ? Lakers 10-6 crushed out there They were getting but turned it around in the last quarter I can't believe you missed it ! Read 6:45 PM know I Ugh A iMessage Å * Pay T R P QWE Y | O K S D F G L A H J BN M CV Z Xx 123 return space\n"
     ]
    }
   ],
   "source": [
    "client = vision.ImageAnnotatorClient()\n",
    "\n",
    "with open(\"./screenshot1.webp\", \"rb\") as image_file:\n",
    "    content = image_file.read()\n",
    "\n",
    "image = vision.Image(content=content)\n",
    "\n",
    "response = client.text_detection(image=image)\n",
    "texts = response.text_annotations\n",
    "\n",
    "# if the no text detected then len(list) is 0 \n",
    "\n",
    "# otherwise, first element contains all text. rest contain individual texts with \n",
    "if (len(texts) == 0):\n",
    "    print(\"No texts detected\")\n",
    "\n",
    "else:\n",
    "    sorted_entities = sorted(texts[1:], key= lambda x: x.bounding_poly.vertices[0].y)\n",
    "    sorted_texts = [x.description for x in sorted_entities]\n",
    "\n",
    "    conversation_string = \" \".join(sorted_texts)\n",
    "    print(conversation_string)"
   ]
  },
  {
   "cell_type": "code",
   "execution_count": null,
   "metadata": {},
   "outputs": [],
   "source": []
  }
 ],
 "metadata": {
  "kernelspec": {
   "display_name": "Python 3",
   "language": "python",
   "name": "python3"
  },
  "language_info": {
   "codemirror_mode": {
    "name": "ipython",
    "version": 3
   },
   "file_extension": ".py",
   "mimetype": "text/x-python",
   "name": "python",
   "nbconvert_exporter": "python",
   "pygments_lexer": "ipython3",
   "version": "3.9.6"
  },
  "orig_nbformat": 4
 },
 "nbformat": 4,
 "nbformat_minor": 2
}
